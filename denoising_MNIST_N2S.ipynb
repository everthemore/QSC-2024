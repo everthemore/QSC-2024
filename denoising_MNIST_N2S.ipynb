{
 "cells": [
  {
   "cell_type": "markdown",
   "metadata": {
    "id": "RDx9vsTotzOm"
   },
   "source": [
    "# Unsupervised denoising for experimental data\n",
    "\n",
    "This notebook gives a general introduction on denoising machine learning, followed by an explanation of the DnCNN and Unet architectures which are the models we will use.\n",
    "\n",
    "Adapted from: https://github.com/czbiohub-sf/noise2self/blob/master\n",
    "\n",
    "Contents:\n",
    "* [Loading some data](#load)\n",
    "* [Noise2Self: masking the data](#masking)\n",
    "* [Popular models for denoising tasks](#model)\n",
    "* [Training the model!](#training)\n"
   ]
  },
  {
   "cell_type": "code",
   "execution_count": null,
   "metadata": {
    "id": "UJBIuFs_vA8O"
   },
   "outputs": [],
   "source": [
    "# First some imports\n",
    "from torchvision.datasets import MNIST\n",
    "from torchvision import transforms\n",
    "from torch.utils.data import Dataset\n",
    "from torch import randn\n",
    "import matplotlib.pyplot as plt\n",
    "import numpy as np\n",
    "import torch\n",
    "import torch.nn as nn\n",
    "from torch.nn import MSELoss\n",
    "from torch.optim import Adam\n",
    "from torch.utils.data import DataLoader"
   ]
  },
  {
   "cell_type": "code",
   "execution_count": null,
   "metadata": {
    "id": "7p0S8RglvDIP"
   },
   "outputs": [],
   "source": [
    "# Some useful functions\n",
    "def show_tensor(tensor, cmap='magma', scale=False):\n",
    "    im = tensor.numpy()\n",
    "    if scale:\n",
    "        im = im / im.max()\n",
    "    else:\n",
    "        im = clip(im, 0, 1)\n",
    "\n",
    "    if im.shape[0] == 1:\n",
    "        plt.imshow(im[0], cmap=cmap)\n",
    "    else:\n",
    "        plt.imshow(im.transpose((1, 2, 0)))\n",
    "\n",
    "\n",
    "def tensor_to_numpy(x):\n",
    "    x = x.detach().cpu().numpy()\n",
    "    if x.ndim == 4:\n",
    "        x = x[0]\n",
    "    if x.ndim == 2:\n",
    "        return x\n",
    "\n",
    "    if x.shape[0] == 1:\n",
    "        return x[0]\n",
    "    elif x.shape[0] == 3:\n",
    "        return x.transpose((1, 2, 0))\n",
    "    else:\n",
    "        raise\n",
    "\n",
    "\n",
    "def plot_tensors(tensor_list, titles=None):\n",
    "    color = True if tensor_list[0].shape[1] == 3 else False\n",
    "    image_list = [tensor_to_numpy(tensor) for tensor in tensor_list]\n",
    "    width = len(image_list)\n",
    "    fig, ax = plt.subplots(1, width, sharex='col', sharey='row', figsize=(width * 4, 4))\n",
    "\n",
    "    for i in range(width):\n",
    "        if image_list[i].ndim == 2:\n",
    "            ax[i].imshow(image_list[i], cmap='Greys_r')\n",
    "        else:\n",
    "            ax[i].imshow(image_list[i])\n",
    "        if titles:\n",
    "            ax[i].set_title(titles[i])\n",
    "        ax[i].get_xaxis().set_ticks([])\n",
    "        ax[i].get_yaxis().set_ticks([])\n",
    "    fig"
   ]
  },
  {
   "cell_type": "markdown",
   "metadata": {
    "id": "ljYJmilJtzOn"
   },
   "source": [
    "## Loading some data <a class=\"anchor\" id=\"load\"></a>\n",
    "Training a neural network with pairs of input and target images is called supervised learning. In supervised learning for denoising neural networks, a dataset contains pairs of noisy input and clean target images. The clean target images are also called the ground truth of the data. If the network is then trained on the training data, it can be used to denoise new unseen data. However, since we are dealing with experimental data, the ground truth of the images is often unknown. To solve this problem, this notebook introduces so-called self-supervised learning techniques to create pairs of training images from only the noisy experimental data.\n",
    "\n",
    "Here we load some MNIST (handwritten digits) images, but you could replace this data with experimental images."
   ]
  },
  {
   "cell_type": "code",
   "execution_count": null,
   "metadata": {
    "id": "npYMCrdWtzOn"
   },
   "outputs": [],
   "source": [
    "# Download the images\n",
    "mnist_train = MNIST('/data/MNIST', download = True,\n",
    "                    transform = transforms.Compose([\n",
    "                        transforms.ToTensor(),\n",
    "                    ]), train = True)\n",
    "\n",
    "mnist_test = MNIST('/data/MNIST', download = True,\n",
    "                    transform = transforms.Compose([\n",
    "                        transforms.ToTensor(),\n",
    "                    ]), train = False)"
   ]
  },
  {
   "cell_type": "code",
   "execution_count": null,
   "metadata": {
    "id": "Ey0nnixUuK78"
   },
   "outputs": [],
   "source": [
    "# Functions to add some noise to the images\n",
    "def add_noise(img):\n",
    "    return img + randn(img.size())*0.4\n",
    "\n",
    "class SyntheticNoiseDataset(Dataset):\n",
    "    def __init__(self, data, mode='train'):\n",
    "        self.mode = mode\n",
    "        self.data = data\n",
    "\n",
    "    def __len__(self):\n",
    "        return len(self.data)\n",
    "\n",
    "    def __getitem__(self, index):\n",
    "        img = self.data[index][0]\n",
    "        return add_noise(img), img\n",
    "\n",
    "# Add the noise\n",
    "noisy_mnist_train = SyntheticNoiseDataset(mnist_train, 'train')\n",
    "noisy_mnist_test = SyntheticNoiseDataset(mnist_test, 'test')"
   ]
  },
  {
   "cell_type": "code",
   "execution_count": null,
   "metadata": {
    "colab": {
     "base_uri": "https://localhost:8080/",
     "height": 341
    },
    "id": "NMO3ZGQyuJag",
    "outputId": "471b51e2-0a7c-4546-9385-0b05925bf8bb"
   },
   "outputs": [
    {
     "data": {
      "image/png": "[encoded data removed]",
      "text/plain": [
       "<Figure size 800x400 with 2 Axes>"
      ]
     },
     "metadata": {},
     "output_type": "display_data"
    }
   ],
   "source": [
    "# Show some examples\n",
    "noisy, clean = noisy_mnist_train[0]\n",
    "plot_tensors([noisy[0], clean[0]], ['Noisy Image', 'Clean Image'])"
   ]
  },
  {
   "cell_type": "markdown",
   "metadata": {
    "id": "Arvg8fUovX7E"
   },
   "source": [
    "## Noise2Self: masking the data <a class=\"anchor\" id=\"masking\"></a>\n",
    "\n",
    "In this notebook, the Noise2Self (N2S) method is used to denoise data in a self-supervised manner. For more reading and theoretical derivations, please see the original paper and its supplementary material (Batson et al, 2019).\n",
    "\n",
    "Unless a measurement is purely noise, there is always at least some structure in the data. If the dimension of the structure in the data is much lower than the dimension of the measurement, this structure can be learned and used to remove noise from the data. The N2S method works by assuming pixel-independent noise and using the correlations in the data. For a true signal $y$ and its noisy measurement $x$, the theory works for functions $f$ such that a prediction $f(x)_J$ does not depend on $x_J$. The N2S authors call this class of functions ``J-invariant''. In the case of an image, this means the prediction for a pixel should not depend on the value of that pixel. For these functions, the optimal denoiser can be found by minimizing the self-supervised loss:\n",
    "\n",
    "\\begin{equation}\n",
    "    L(f) = \\mathbb{E} \\lVert f(x)-x \\rVert ^2\n",
    "\\end{equation}\n",
    "\n",
    "where $\\mathbb{E}$ indicates the expectation value. For pixel-independent noise, this equation can be rewritten to:\n",
    "\n",
    "\\begin{equation}\n",
    "    \\mathbb{E} \\lVert f(x)-x \\rVert ^2 = \\mathbb{E} \\lVert f(x)-y \\rVert ^2\n",
    "                                       + \\mathbb{E} \\lVert x-y \\rVert ^2\n",
    "\\end{equation}\n",
    "\n",
    "This equation shows that the self-supervised loss is the sum of the ordinary supervised loss $\\mathbb{E} \\lVert f(x)-y \\rVert ^2$ and the variance of the noise $\\mathbb{E} \\lVert x-y \\rVert ^2$. By minimizing the self-supervised loss, we can thus find the optimal denoiser for a noisy measurement.\n",
    "\n",
    "For the N2S method to work, it is important to have a denoiser $f$ which is J-invariant. However, for most denoisers this is not naturally the case. Some methods can be easily adjusted, e.g. using a smearing filter with the center pixel cut out. For other methods, there is a more general way to adjust the method, using a **masking technique**. For the masking technique, the pixels of the image are divided into a number of subgroups. Each subgroup is then predicted individually by replacing the pixels of that group with averages of neighbours or random values. For example, if an image is divided into 25 subgroups, then the image is fed to the denoiser 25 times, each time with one of the subgroups masked, and each time only saving the outputs for that subgroup. This ensures that a certain pixel is predicted without using the original noisy value for that pixel, while still having access to the structure in the image."
   ]
  },
  {
   "cell_type": "code",
   "execution_count": null,
   "metadata": {
    "id": "SROgYm62vYH5"
   },
   "outputs": [],
   "source": [
    "class Masker():\n",
    "    \"\"\"Object for masking and demasking\"\"\"\n",
    "\n",
    "    def __init__(self, width=3, mode='zero', infer_single_pass=False, include_mask_as_input=False):\n",
    "        self.grid_size = width\n",
    "        self.n_masks = width ** 2\n",
    "\n",
    "        self.mode = mode\n",
    "        self.infer_single_pass = infer_single_pass\n",
    "        self.include_mask_as_input = include_mask_as_input\n",
    "\n",
    "    def mask(self, X, i):\n",
    "\n",
    "        phasex = i % self.grid_size\n",
    "        phasey = (i // self.grid_size) % self.grid_size\n",
    "        mask = pixel_grid_mask(X[0, 0].shape, self.grid_size, phasex, phasey)\n",
    "        mask = mask.to(X.device)\n",
    "\n",
    "        mask_inv = torch.ones(mask.shape).to(X.device) - mask\n",
    "\n",
    "        if self.mode == 'interpolate':\n",
    "            masked = interpolate_mask(X, mask, mask_inv)\n",
    "        elif self.mode == 'zero':\n",
    "            masked = X * mask_inv\n",
    "        else:\n",
    "            raise NotImplementedError\n",
    "\n",
    "        if self.include_mask_as_input:\n",
    "            net_input = torch.cat((masked, mask.repeat(X.shape[0], 1, 1, 1)), dim=1)\n",
    "        else:\n",
    "            net_input = masked\n",
    "\n",
    "        return net_input, mask\n",
    "\n",
    "    def __len__(self):\n",
    "        return self.n_masks\n",
    "\n",
    "    def infer_full_image(self, X, model):\n",
    "\n",
    "        if self.infer_single_pass:\n",
    "            if self.include_mask_as_input:\n",
    "                net_input = torch.cat((X, torch.zeros(X[:, 0:1].shape).to(X.device)), dim=1)\n",
    "            else:\n",
    "                net_input = X\n",
    "            net_output = model(net_input)\n",
    "            return net_output\n",
    "\n",
    "        else:\n",
    "            net_input, mask = self.mask(X, 0)\n",
    "            net_output = model(net_input)\n",
    "\n",
    "            acc_tensor = torch.zeros(net_output.shape).cpu()\n",
    "\n",
    "            for i in range(self.n_masks):\n",
    "                net_input, mask = self.mask(X, i)\n",
    "                net_output = model(net_input)\n",
    "                acc_tensor = acc_tensor + (net_output * mask).cpu()\n",
    "\n",
    "            return acc_tensor\n",
    "\n",
    "def pixel_grid_mask(shape, patch_size, phase_x, phase_y):\n",
    "    A = torch.zeros(shape[-2:])\n",
    "    for i in range(shape[-2]):\n",
    "        for j in range(shape[-1]):\n",
    "            if (i % patch_size == phase_x and j % patch_size == phase_y):\n",
    "                A[i, j] = 1\n",
    "    return torch.Tensor(A)\n",
    "\n",
    "\n",
    "def interpolate_mask(tensor, mask, mask_inv):\n",
    "    device = tensor.device\n",
    "\n",
    "    mask = mask.to(device)\n",
    "\n",
    "    kernel = np.array([[0.5, 1.0, 0.5], [1.0, 0.0, 1.0], (0.5, 1.0, 0.5)])\n",
    "    kernel = kernel[np.newaxis, np.newaxis, :, :]\n",
    "    kernel = torch.Tensor(kernel).to(device)\n",
    "    kernel = kernel / kernel.sum()\n",
    "\n",
    "    filtered_tensor = torch.nn.functional.conv2d(tensor, kernel, stride=1, padding=1)\n",
    "\n",
    "    return filtered_tensor * mask + tensor * mask_inv"
   ]
  },
  {
   "cell_type": "code",
   "execution_count": null,
   "metadata": {
    "colab": {
     "base_uri": "https://localhost:8080/",
     "height": 233
    },
    "id": "58SSa2pkw5xP",
    "outputId": "df99c241-ba3f-45c1-e405-6ad5d3a2d393"
   },
   "outputs": [
    {
     "data": {
      "image/png": "[encoded data removed]",
      "text/plain": [
       "<Figure size 1600x400 with 4 Axes>"
      ]
     },
     "metadata": {},
     "output_type": "display_data"
    }
   ],
   "source": [
    "# Define the masker object\n",
    "masker = Masker(width = 4, mode='interpolate')\n",
    "\n",
    "# Show an example of what a mask looks like\n",
    "net_input, mask = masker.mask(noisy.unsqueeze(0), 0)\n",
    "plot_tensors([mask, noisy[0], net_input[0], net_input[0] - noisy[0]],\n",
    "            [\"Mask\", \"Noisy Image\", \"Neural Net Input\", \"Difference\"])"
   ]
  },
  {
   "cell_type": "markdown",
   "metadata": {
    "id": "HPEmOJn0xdDF"
   },
   "source": [
    "## Popular models for denoising tasks <a class=\"anchor\" id=\"model\"></a>\n",
    "\n",
    "Two popular models are the DnCNN and the Unet\n",
    "\n",
    "TODO? put more info here"
   ]
  },
  {
   "cell_type": "code",
   "execution_count": null,
   "metadata": {
    "id": "p3ZTL868xdVQ"
   },
   "outputs": [],
   "source": [
    "class DnCNN(nn.Module):\n",
    "    def __init__(self, channels=1, num_of_layers=20):\n",
    "        super(DnCNN, self).__init__()\n",
    "        kernel_size = 3\n",
    "        padding = 1\n",
    "        features = 64\n",
    "        layers = []\n",
    "        layers.append(nn.Conv2d(in_channels=channels, out_channels=features, kernel_size=kernel_size, padding=padding, bias=False))\n",
    "        layers.append(nn.ReLU(inplace=True))\n",
    "        for _ in range(num_of_layers - 2):\n",
    "            layers.append(nn.Conv2d(in_channels=features, out_channels=features, kernel_size=kernel_size, padding=padding, bias=False))\n",
    "            layers.append(nn.BatchNorm2d(features))\n",
    "            layers.append(nn.ReLU(inplace=True))\n",
    "        layers.append(nn.Conv2d(in_channels=features, out_channels=channels, kernel_size=kernel_size, padding=padding, bias=False))\n",
    "        self.dncnn = nn.Sequential(*layers)\n",
    "\n",
    "    def forward(self, x):\n",
    "        out = self.dncnn(x)\n",
    "        return out"
   ]
  },
  {
   "cell_type": "code",
   "execution_count": null,
   "metadata": {
    "id": "1nBtNn0-2vVA"
   },
   "outputs": [],
   "source": [
    "#TODO babynet"
   ]
  },
  {
   "cell_type": "code",
   "execution_count": null,
   "metadata": {
    "colab": {
     "base_uri": "https://localhost:8080/"
    },
    "id": "-CWEVobizAqM",
    "outputId": "7748db58-e1f5-4064-db41-d3eae1500a5b"
   },
   "outputs": [
    {
     "name": "stdout",
     "output_type": "stream",
     "text": [
      "DnCNN(\n",
      "  (dncnn): Sequential(\n",
      "    (0): Conv2d(1, 64, kernel_size=(3, 3), stride=(1, 1), padding=(1, 1), bias=False)\n",
      "    (1): ReLU(inplace=True)\n",
      "    (2): Conv2d(64, 64, kernel_size=(3, 3), stride=(1, 1), padding=(1, 1), bias=False)\n",
      "    (3): BatchNorm2d(64, eps=1e-05, momentum=0.1, affine=True, track_running_stats=True)\n",
      "    (4): ReLU(inplace=True)\n",
      "    (5): Conv2d(64, 64, kernel_size=(3, 3), stride=(1, 1), padding=(1, 1), bias=False)\n",
      "    (6): BatchNorm2d(64, eps=1e-05, momentum=0.1, affine=True, track_running_stats=True)\n",
      "    (7): ReLU(inplace=True)\n",
      "    (8): Conv2d(64, 64, kernel_size=(3, 3), stride=(1, 1), padding=(1, 1), bias=False)\n",
      "    (9): BatchNorm2d(64, eps=1e-05, momentum=0.1, affine=True, track_running_stats=True)\n",
      "    (10): ReLU(inplace=True)\n",
      "    (11): Conv2d(64, 1, kernel_size=(3, 3), stride=(1, 1), padding=(1, 1), bias=False)\n",
      "  )\n",
      ")\n"
     ]
    }
   ],
   "source": [
    "model = DnCNN(num_of_layers=5)  # We only use 5 layers, to speed up training\n",
    "print(model)"
   ]
  },
  {
   "cell_type": "markdown",
   "metadata": {
    "id": "Yq3lZCWHzff6"
   },
   "source": [
    "## Training the model! <a class=\"anchor\" id=\"training\"></a>"
   ]
  },
  {
   "cell_type": "code",
   "execution_count": null,
   "metadata": {
    "id": "lVtXb3EzzfoR"
   },
   "outputs": [],
   "source": [
    "loss_function = MSELoss()\n",
    "optimizer = Adam(model.parameters(), lr=0.001)"
   ]
  },
  {
   "cell_type": "code",
   "execution_count": null,
   "metadata": {
    "colab": {
     "base_uri": "https://localhost:8080/"
    },
    "id": "aiT5R-SXz8Hd",
    "outputId": "addda36e-75c6-4773-c06f-e40b54d2b67e"
   },
   "outputs": [
    {
     "name": "stdout",
     "output_type": "stream",
     "text": [
      "Loss ( 0 ): \t 0.0205\n",
      "Loss ( 10 ): \t 0.0126\n",
      "Loss ( 20 ): \t 0.0117\n",
      "Loss ( 30 ): \t 0.0126\n",
      "Loss ( 40 ): \t 0.0108\n",
      "Loss ( 50 ): \t 0.0109\n",
      "Loss ( 60 ): \t 0.0111\n",
      "Loss ( 70 ): \t 0.011\n",
      "Loss ( 80 ): \t 0.0108\n",
      "Loss ( 90 ): \t 0.0116\n",
      "Loss ( 100 ): \t 0.0116\n"
     ]
    }
   ],
   "source": [
    "data_loader = DataLoader(noisy_mnist_train, batch_size=32, shuffle=True)\n",
    "\n",
    "for i, batch in enumerate(data_loader):\n",
    "    noisy_images, clean_images = batch\n",
    "\n",
    "    net_input, mask = masker.mask(noisy_images, i)\n",
    "    net_output = model(net_input)\n",
    "\n",
    "    loss = loss_function(net_output*mask, noisy_images*mask)\n",
    "\n",
    "    optimizer.zero_grad()\n",
    "\n",
    "    loss.backward()\n",
    "\n",
    "    optimizer.step()\n",
    "\n",
    "    if i % 10 == 0:\n",
    "        print(\"Loss (\", i, \"): \\t\", round(loss.item(), 4))\n",
    "\n",
    "    if i == 100:\n",
    "        break"
   ]
  },
  {
   "cell_type": "code",
   "execution_count": null,
   "metadata": {
    "id": "NHj4FKM20FGr"
   },
   "outputs": [],
   "source": [
    "test_data_loader = DataLoader(noisy_mnist_test,\n",
    "                                              batch_size=32,\n",
    "                                              shuffle=False,\n",
    "                                              num_workers=3)\n",
    "i, test_batch = next(enumerate(test_data_loader))\n",
    "noisy, clean = test_batch"
   ]
  },
  {
   "cell_type": "markdown",
   "metadata": {
    "id": "Jn3KmZja0KBR"
   },
   "source": [
    "With our trained model, we have a choice. We may do a full\n",
    "-invariant reconstruction, or we may just run the noisy data through the network unaltered."
   ]
  },
  {
   "cell_type": "code",
   "execution_count": null,
   "metadata": {
    "colab": {
     "base_uri": "https://localhost:8080/",
     "height": 233
    },
    "id": "zwi8sUd90Khr",
    "outputId": "c3bea9e4-96be-49f7-c83d-d05cff40a398"
   },
   "outputs": [
    {
     "data": {
      "image/png": "[encoded data removed]",
      "text/plain": [
       "<Figure size 1600x400 with 4 Axes>"
      ]
     },
     "metadata": {},
     "output_type": "display_data"
    }
   ],
   "source": [
    "simple_output = model(noisy)\n",
    "invariant_output = masker.infer_full_image(noisy, model)\n",
    "\n",
    "idx = 3\n",
    "plot_tensors([clean[idx], noisy[idx], simple_output[idx], invariant_output[idx]],\n",
    "            [\"Ground Truth\", \"Noisy Image\", \"Single Pass Inference\", \"J-Invariant Inference\"])"
   ]
  },
  {
   "cell_type": "code",
   "execution_count": null,
   "metadata": {
    "colab": {
     "base_uri": "https://localhost:8080/"
    },
    "id": "TRNMgrUo0aLE",
    "outputId": "b4f3935b-0593-45a7-a687-a213724aa35e"
   },
   "outputs": [
    {
     "name": "stdout",
     "output_type": "stream",
     "text": [
      "Test loss, single pass:  0.017\n",
      "Test loss, J-invariant:  0.021\n"
     ]
    }
   ],
   "source": [
    "print(\"Test loss, single pass: \", round(loss_function(clean, simple_output).item(), 3))\n",
    "print(\"Test loss, J-invariant: \", round(loss_function(clean, invariant_output).item(), 3))"
   ]
  },
  {
   "cell_type": "markdown",
   "metadata": {
    "id": "6E0tvGnT0eZm"
   },
   "source": [
    "While both the simple and invariant output are significantly denoised, the invariant output has a mild pixelation.\n",
    "\n",
    "This is due to the fact that neighboring pixels are denoised using different information, leading to discontinuities in the reconstructed output."
   ]
  }
 ],
 "metadata": {
  "colab": {
   "provenance": []
  },
  "kernelspec": {
   "display_name": "Python 3 (ipykernel)",
   "language": "python",
   "name": "python3"
  },
  "language_info": {
   "codemirror_mode": {
    "name": "ipython",
    "version": 3
   },
   "file_extension": ".py",
   "mimetype": "text/x-python",
   "name": "python",
   "nbconvert_exporter": "python",
   "pygments_lexer": "ipython3",
   "version": "3.11.4"
  }
 },
 "nbformat": 4,
 "nbformat_minor": 1
}
